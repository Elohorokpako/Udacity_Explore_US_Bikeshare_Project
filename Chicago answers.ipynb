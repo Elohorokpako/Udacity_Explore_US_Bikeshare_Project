{
 "cells": [
  {
   "cell_type": "code",
   "execution_count": 1,
   "id": "b7304958",
   "metadata": {},
   "outputs": [],
   "source": [
    "import pandas as pd\n",
    "import numpy as np"
   ]
  },
  {
   "cell_type": "markdown",
   "id": "bf547314",
   "metadata": {},
   "source": [
    "### Loading the chicago dataset"
   ]
  },
  {
   "cell_type": "markdown",
   "id": "1b997970",
   "metadata": {},
   "source": [
    "### Converting Start Time to datetime, extracting another column for month"
   ]
  },
  {
   "cell_type": "code",
   "execution_count": 3,
   "id": "af10bc20",
   "metadata": {},
   "outputs": [
    {
     "data": {
      "text/html": [
       "<div>\n",
       "<style scoped>\n",
       "    .dataframe tbody tr th:only-of-type {\n",
       "        vertical-align: middle;\n",
       "    }\n",
       "\n",
       "    .dataframe tbody tr th {\n",
       "        vertical-align: top;\n",
       "    }\n",
       "\n",
       "    .dataframe thead th {\n",
       "        text-align: right;\n",
       "    }\n",
       "</style>\n",
       "<table border=\"1\" class=\"dataframe\">\n",
       "  <thead>\n",
       "    <tr style=\"text-align: right;\">\n",
       "      <th></th>\n",
       "      <th>Unnamed: 0</th>\n",
       "      <th>Start Time</th>\n",
       "      <th>End Time</th>\n",
       "      <th>Trip Duration</th>\n",
       "      <th>Start Station</th>\n",
       "      <th>End Station</th>\n",
       "      <th>User Type</th>\n",
       "      <th>Gender</th>\n",
       "      <th>Birth Year</th>\n",
       "      <th>Month</th>\n",
       "    </tr>\n",
       "  </thead>\n",
       "  <tbody>\n",
       "    <tr>\n",
       "      <th>0</th>\n",
       "      <td>1423854</td>\n",
       "      <td>2017-06-23 15:09:32</td>\n",
       "      <td>2017-06-23 15:14:53</td>\n",
       "      <td>321</td>\n",
       "      <td>Wood St &amp; Hubbard St</td>\n",
       "      <td>Damen Ave &amp; Chicago Ave</td>\n",
       "      <td>Subscriber</td>\n",
       "      <td>Male</td>\n",
       "      <td>1992.0</td>\n",
       "      <td>6</td>\n",
       "    </tr>\n",
       "    <tr>\n",
       "      <th>1</th>\n",
       "      <td>955915</td>\n",
       "      <td>2017-05-25 18:19:03</td>\n",
       "      <td>2017-05-25 18:45:53</td>\n",
       "      <td>1610</td>\n",
       "      <td>Theater on the Lake</td>\n",
       "      <td>Sheffield Ave &amp; Waveland Ave</td>\n",
       "      <td>Subscriber</td>\n",
       "      <td>Female</td>\n",
       "      <td>1992.0</td>\n",
       "      <td>5</td>\n",
       "    </tr>\n",
       "    <tr>\n",
       "      <th>2</th>\n",
       "      <td>9031</td>\n",
       "      <td>2017-01-04 08:27:49</td>\n",
       "      <td>2017-01-04 08:34:45</td>\n",
       "      <td>416</td>\n",
       "      <td>May St &amp; Taylor St</td>\n",
       "      <td>Wood St &amp; Taylor St</td>\n",
       "      <td>Subscriber</td>\n",
       "      <td>Male</td>\n",
       "      <td>1981.0</td>\n",
       "      <td>1</td>\n",
       "    </tr>\n",
       "    <tr>\n",
       "      <th>3</th>\n",
       "      <td>304487</td>\n",
       "      <td>2017-03-06 13:49:38</td>\n",
       "      <td>2017-03-06 13:55:28</td>\n",
       "      <td>350</td>\n",
       "      <td>Christiana Ave &amp; Lawrence Ave</td>\n",
       "      <td>St. Louis Ave &amp; Balmoral Ave</td>\n",
       "      <td>Subscriber</td>\n",
       "      <td>Male</td>\n",
       "      <td>1986.0</td>\n",
       "      <td>3</td>\n",
       "    </tr>\n",
       "    <tr>\n",
       "      <th>4</th>\n",
       "      <td>45207</td>\n",
       "      <td>2017-01-17 14:53:07</td>\n",
       "      <td>2017-01-17 15:02:01</td>\n",
       "      <td>534</td>\n",
       "      <td>Clark St &amp; Randolph St</td>\n",
       "      <td>Desplaines St &amp; Jackson Blvd</td>\n",
       "      <td>Subscriber</td>\n",
       "      <td>Male</td>\n",
       "      <td>1975.0</td>\n",
       "      <td>1</td>\n",
       "    </tr>\n",
       "  </tbody>\n",
       "</table>\n",
       "</div>"
      ],
      "text/plain": [
       "   Unnamed: 0          Start Time             End Time  Trip Duration  \\\n",
       "0     1423854 2017-06-23 15:09:32  2017-06-23 15:14:53            321   \n",
       "1      955915 2017-05-25 18:19:03  2017-05-25 18:45:53           1610   \n",
       "2        9031 2017-01-04 08:27:49  2017-01-04 08:34:45            416   \n",
       "3      304487 2017-03-06 13:49:38  2017-03-06 13:55:28            350   \n",
       "4       45207 2017-01-17 14:53:07  2017-01-17 15:02:01            534   \n",
       "\n",
       "                   Start Station                   End Station   User Type  \\\n",
       "0           Wood St & Hubbard St       Damen Ave & Chicago Ave  Subscriber   \n",
       "1            Theater on the Lake  Sheffield Ave & Waveland Ave  Subscriber   \n",
       "2             May St & Taylor St           Wood St & Taylor St  Subscriber   \n",
       "3  Christiana Ave & Lawrence Ave  St. Louis Ave & Balmoral Ave  Subscriber   \n",
       "4         Clark St & Randolph St  Desplaines St & Jackson Blvd  Subscriber   \n",
       "\n",
       "   Gender  Birth Year  Month  \n",
       "0    Male      1992.0      6  \n",
       "1  Female      1992.0      5  \n",
       "2    Male      1981.0      1  \n",
       "3    Male      1986.0      3  \n",
       "4    Male      1975.0      1  "
      ]
     },
     "execution_count": 3,
     "metadata": {},
     "output_type": "execute_result"
    }
   ],
   "source": [
    "df['Start Time']=pd.to_datetime(df['Start Time'])\n",
    "df['Month']=df['Start Time'].dt.month\n",
    "df.head()"
   ]
  },
  {
   "cell_type": "markdown",
   "id": "9106db72",
   "metadata": {},
   "source": [
    "### Calculating the mode of the month"
   ]
  },
  {
   "cell_type": "code",
   "execution_count": 4,
   "id": "e683947f",
   "metadata": {},
   "outputs": [
    {
     "data": {
      "text/plain": [
       "6"
      ]
     },
     "execution_count": 4,
     "metadata": {},
     "output_type": "execute_result"
    }
   ],
   "source": [
    "df['Month'].mode()[0]"
   ]
  },
  {
   "cell_type": "markdown",
   "id": "4a539628",
   "metadata": {},
   "source": [
    "### extracting the day of the week and calculating the mode"
   ]
  },
  {
   "cell_type": "code",
   "execution_count": null,
   "id": "40c21342",
   "metadata": {},
   "outputs": [],
   "source": [
    "days=['Monday']\n",
    "df['month_day']=df['Start Time'].dt.day_name()\n",
    "df[df['month_day']==days[0]]\n",
    "df.groupby(df['month_day'])[df['Birth Year']]"
   ]
  },
  {
   "cell_type": "code",
   "execution_count": 9,
   "id": "bb575ba4",
   "metadata": {},
   "outputs": [
    {
     "data": {
      "text/plain": [
       "1"
      ]
     },
     "execution_count": 9,
     "metadata": {},
     "output_type": "execute_result"
    }
   ],
   "source": [
    "df['day_of_week'].mode()[0]"
   ]
  },
  {
   "cell_type": "code",
   "execution_count": 12,
   "id": "8fb2ddb1",
   "metadata": {
    "scrolled": true
   },
   "outputs": [
    {
     "data": {
      "text/plain": [
       "'Streeter Dr & Grand Ave'"
      ]
     },
     "execution_count": 12,
     "metadata": {},
     "output_type": "execute_result"
    }
   ],
   "source": [
    "df['End Station'].mode()[0]"
   ]
  },
  {
   "cell_type": "markdown",
   "id": "5b978255",
   "metadata": {},
   "source": [
    "### Calculating the mode of the start and end station"
   ]
  },
  {
   "cell_type": "code",
   "execution_count": 14,
   "id": "11b35f36",
   "metadata": {
    "scrolled": true
   },
   "outputs": [
    {
     "data": {
      "text/html": [
       "<div>\n",
       "<style scoped>\n",
       "    .dataframe tbody tr th:only-of-type {\n",
       "        vertical-align: middle;\n",
       "    }\n",
       "\n",
       "    .dataframe tbody tr th {\n",
       "        vertical-align: top;\n",
       "    }\n",
       "\n",
       "    .dataframe thead th {\n",
       "        text-align: right;\n",
       "    }\n",
       "</style>\n",
       "<table border=\"1\" class=\"dataframe\">\n",
       "  <thead>\n",
       "    <tr style=\"text-align: right;\">\n",
       "      <th></th>\n",
       "      <th>Start Station</th>\n",
       "      <th>End Station</th>\n",
       "    </tr>\n",
       "  </thead>\n",
       "  <tbody>\n",
       "    <tr>\n",
       "      <th>0</th>\n",
       "      <td>Streeter Dr &amp; Grand Ave</td>\n",
       "      <td>Streeter Dr &amp; Grand Ave</td>\n",
       "    </tr>\n",
       "  </tbody>\n",
       "</table>\n",
       "</div>"
      ],
      "text/plain": [
       "             Start Station              End Station\n",
       "0  Streeter Dr & Grand Ave  Streeter Dr & Grand Ave"
      ]
     },
     "execution_count": 14,
     "metadata": {},
     "output_type": "execute_result"
    }
   ],
   "source": [
    "df[['Start Station','End Station']].mode()"
   ]
  },
  {
   "cell_type": "code",
   "execution_count": 15,
   "id": "ba9297ea",
   "metadata": {},
   "outputs": [
    {
     "data": {
      "text/plain": [
       "280871787"
      ]
     },
     "execution_count": 15,
     "metadata": {},
     "output_type": "execute_result"
    }
   ],
   "source": [
    "## Calculating the total time travel\n",
    "\n",
    "df['Trip Duration'].sum()"
   ]
  },
  {
   "cell_type": "code",
   "execution_count": 16,
   "id": "bf6c4956",
   "metadata": {},
   "outputs": [
    {
     "data": {
      "text/plain": [
       "936.23929"
      ]
     },
     "execution_count": 16,
     "metadata": {},
     "output_type": "execute_result"
    }
   ],
   "source": [
    "### Calculating the mean time travel\n",
    "df['Trip Duration'].mean()"
   ]
  },
  {
   "cell_type": "code",
   "execution_count": 17,
   "id": "94e3944b",
   "metadata": {},
   "outputs": [
    {
     "data": {
      "text/plain": [
       "Subscriber    238889\n",
       "Customer       61110\n",
       "Dependent          1\n",
       "Name: User Type, dtype: int64"
      ]
     },
     "execution_count": 17,
     "metadata": {},
     "output_type": "execute_result"
    }
   ],
   "source": [
    "### Calculating the counts of user types\n",
    "df['User Type'].value_counts()"
   ]
  },
  {
   "cell_type": "code",
   "execution_count": 18,
   "id": "612b9bfb",
   "metadata": {},
   "outputs": [
    {
     "data": {
      "text/plain": [
       "Male      181190\n",
       "Female     57758\n",
       "Name: Gender, dtype: int64"
      ]
     },
     "execution_count": 18,
     "metadata": {},
     "output_type": "execute_result"
    }
   ],
   "source": [
    "### Calculating counts of gender"
   ]
  },
  {
   "cell_type": "code",
   "execution_count": 5,
   "id": "70a11056",
   "metadata": {},
   "outputs": [
    {
     "name": "stdout",
     "output_type": "stream",
     "text": [
      "Hello! Let's explore some US bikeshare data!\n",
      "Which city would you like to see? \n",
      "Chicago, New York City or Washington: washington\n",
      "Would you like to filter the data by month? \n",
      " ('all', 'jan', 'feb', 'march', 'april', 'may', 'june')\n",
      " \n",
      "                        Enter your preferred months or type 'all' if you do \n",
      "                        not want to filter the data jan\n",
      "Would you like to filter the data by a day of the week?\n",
      "('all', 'monday', 'tuesday', 'wednesday', 'thurdsay', 'friday', 'saturday', 'sunday')\n",
      " \n",
      "            Type all if you do not want to filter the data: monday\n",
      "----------------------------------------\n",
      "\n",
      "Calculating The Most Frequent Times of Travel...\n",
      "\n",
      "The most common month is January\n",
      "The most common day of the week is Monday\n",
      "The most common start hour is 8.00 AM\n",
      "\n",
      "This took 0.054913997650146484 seconds.\n",
      "----------------------------------------\n",
      "\n",
      "Calculating The Most Popular Stations and Trip...\n",
      "\n",
      "The most commonly used start station is Columbus Circle / Union Station\n",
      "The most commonly used end station is Columbus Circle / Union Station\n",
      "The most frequent combination of start and end station trip is                      Start Station                      End Station\n",
      "0  Columbus Circle / Union Station  Columbus Circle / Union Station\n",
      "\n",
      "This took 0.0619049072265625 seconds.\n",
      "----------------------------------------\n",
      "\n",
      "Calculating Trip Duration...\n",
      "\n",
      "The total travel time is 4465881.1450000005\n",
      "The mean travel time is 846.9336516214684\n",
      "\n",
      "This took 0.0229644775390625 seconds.\n",
      "----------------------------------------\n",
      "\n",
      "Calculating User Stats...\n",
      "\n",
      "The count of the user types is Subscriber    4812\n",
      "Customer       461\n",
      "Name: User Type, dtype: int64\n",
      "\n",
      "This took 0.020963430404663086 seconds.\n",
      "----------------------------------------\n",
      "Would you like to see five rows of the raw data? yes\n",
      "     Unnamed: 0          Start Time             End Time  Trip Duration  \\\n",
      "36       131497 2017-01-25 15:57:00  2017-01-25 18:10:00       7954.191   \n",
      "58        49136 2017-01-11 20:00:00  2017-01-11 20:03:00        127.729   \n",
      "119       14506 2017-01-04 17:31:00  2017-01-04 17:38:00        446.008   \n",
      "164      130149 2017-01-25 12:32:00  2017-01-25 12:37:00        299.665   \n",
      "\n",
      "                                 Start Station  \\\n",
      "36                              17th & K St NW   \n",
      "58   Central Library / N Quincy St & 10th St N   \n",
      "119            Columbus Circle / Union Station   \n",
      "164                 14th & Rhode Island Ave NW   \n",
      "\n",
      "                         End Station   User Type  month  day_of_week  Hour  \n",
      "36   Carlin Springs Rd & N Thomas St    Customer      1            2    15  \n",
      "58         Wilson Blvd & N Quincy St  Subscriber      1            2    20  \n",
      "119     3rd St & Pennsylvania Ave SE  Subscriber      1            2    17  \n",
      "164                   15th & K St NW  Subscriber      1            2    12  \n",
      "Would you like to see another five rows of the raw data? yes\n",
      "     Unnamed: 0          Start Time             End Time  Trip Duration  \\\n",
      "444      134140 2017-01-25 18:40:00  2017-01-25 18:51:00        663.125   \n",
      "517       14212 2017-01-04 17:12:00  2017-01-04 17:25:00        759.506   \n",
      "682       89412 2017-01-18 17:56:00  2017-01-18 18:03:00        374.703   \n",
      "690       11282 2017-01-04 08:52:00  2017-01-04 08:59:00        440.524   \n",
      "694       85893 2017-01-18 09:04:00  2017-01-18 09:10:00        349.647   \n",
      "\n",
      "                            Start Station                    End Station  \\\n",
      "444                        14th & V St NW     Rhode Island Ave & V St NE   \n",
      "517  Washington & Independence Ave SW/HHS                  1st & M St NE   \n",
      "682                   King St Metro South                     Lee Center   \n",
      "690                        21st & M St NW      New York Ave & 15th St NW   \n",
      "694            17th & Rhode Island Ave NW  19th St & Pennsylvania Ave NW   \n",
      "\n",
      "      User Type  month  day_of_week  Hour  \n",
      "444  Subscriber      1            2    18  \n",
      "517  Subscriber      1            2    17  \n",
      "682  Subscriber      1            2    17  \n",
      "690  Subscriber      1            2     8  \n",
      "694  Subscriber      1            2     9  \n",
      "Would you like to see another five rows of the raw data? no\n",
      "\n",
      "Would you like to restart? Enter yes or no.\n",
      "no\n"
     ]
    }
   ],
   "source": [
    "import time\n",
    "import pandas as pd\n",
    "import numpy as np\n",
    "\n",
    "city_data = { 'chicago': 'chicago.csv',\n",
    "              'new york city': 'new_york_city.csv',\n",
    "              'washington': 'washington.csv' }\n",
    "accepted_months=('all', 'jan', 'feb', 'march', 'april', 'may', 'june')\n",
    "accepted_days=('all', 'monday', 'tuesday', 'wednesday', 'thurdsay', 'friday', 'saturday', 'sunday')\n",
    "try:\n",
    "    def get_filters():\n",
    "        print('Hello! Let\\'s explore some US bikeshare data!')\n",
    "        while True:\n",
    "            city=input('Which city would you like to see? \\nChicago, New York City or Washington: ').lower()\n",
    "            if city in city_data:\n",
    "                break\n",
    "            else:\n",
    "                print('Please select the right city: Chicago, New York City or Washington')\n",
    "        while True:\n",
    "            month=input('''Would you like to filter the data by month? \\n {}\\n \n",
    "                        Enter your preferred months or type 'all' if you do \n",
    "                        not want to filter the data '''.format(accepted_months)).lower()\n",
    "            if month in accepted_months:\n",
    "                break\n",
    "            else:\n",
    "                print('Please enter the right month from {}'.format(accepted_months))\n",
    "\n",
    "        while True:\n",
    "            day=input('''Would you like to filter the data by a day of the week?\\n{}\\n \n",
    "            Type all if you do not want to filter the data: '''.format(accepted_days)).lower()\n",
    "            if day in accepted_days:\n",
    "                break\n",
    "            else:\n",
    "                print('Please enter the right day in the format {}'.format(accepted_days))\n",
    "\n",
    "        print('-'*40)\n",
    "        return city, month, day\n",
    "    \n",
    "    def load_data(city, month, day):\n",
    "        \"\"\"\n",
    "        Loads data for the specified city and filters by month and day if applicable.\n",
    "\n",
    "        Args:\n",
    "            (str) city - name of the city to analyze\n",
    "            (str) month - name of the month to filter by, or \"all\" to apply no month filter\n",
    "            (str) day - name of the day of week to filter by, or \"all\" to apply no day filter\n",
    "        Returns:\n",
    "            df - Pandas DataFrame containing city data filtered by month and day\n",
    "        \"\"\"\n",
    "        df=pd.read_csv(city_data[city])\n",
    "        df['Start Time'] = pd.to_datetime(df['Start Time'])\n",
    "        df['month'] = df['Start Time'].dt.month\n",
    "        df['day_of_week'] = df['Start Time'].dt.weekday\n",
    "    # filter by month if applicable\n",
    "        if month != 'all':\n",
    "            # use the index of the months list to get the corresponding int\n",
    "            months = ['jan', 'feb', 'march', 'april', 'may', 'june']\n",
    "            month = months.index(month)+1\n",
    "\n",
    "        # filter by month to create the new dataframe\n",
    "            df = df[df['month']==month]\n",
    "\n",
    "        # filter by day of week if applicable\n",
    "        if day != 'all':\n",
    "            # filter by day of week to create the new dataframe\n",
    "            days=['sunday','monday','tuesday','wednesday','thursday','friday','saturday']\n",
    "            day=days.index(day)+1\n",
    "            df = df[df['day_of_week']==day]\n",
    "\n",
    "        return df\n",
    "\n",
    "    def time_stats(df):\n",
    "        \"\"\"Displays statistics on the most frequent times of travel.\"\"\"\n",
    "\n",
    "        print('\\nCalculating The Most Frequent Times of Travel...\\n')\n",
    "        start_time = time.time()\n",
    "\n",
    "        # TO DO: display the most common month\n",
    "        answers=('January','February','March','April','May','June')\n",
    "        number=df['month'].mode()[0]\n",
    "        print('The most common month is {}'.format(answers[number-1]))\n",
    "\n",
    "        # TO DO: display the most common day of week\n",
    "        days_of_the_week=('Sunday','Monday','Tuesday','Wednesday','Thursday','Friday','Saturday')\n",
    "        answer=df['day_of_week'].mode()[0]\n",
    "        print('The most common day of the week is {}'.format(days_of_the_week[answer-1]))\n",
    "\n",
    "        # TO DO: display the most common start hour\n",
    "        df['Hour']=df['Start Time'].dt.hour\n",
    "        hour=df['Hour'].mode()[0]\n",
    "        if int(hour)<12:\n",
    "            print('The most common start hour is {}{}'.format(hour,'.00 AM'))\n",
    "        elif int(hour)==12:\n",
    "            print('The most common start hour is {}{}'.format(hour,'.00 NOON'))\n",
    "        elif int(hour)>12:\n",
    "            print('The most common start hour is {}{}'.format(hour-12,'.00 PM'))\n",
    "        else:\n",
    "            print('The most common start hour is {}{}'.format(hour,'.00'))\n",
    "        print(\"\\nThis took %s seconds.\" % (time.time() - start_time))\n",
    "        print('-'*40)\n",
    "\n",
    "    def station_stats(df):\n",
    "        \"\"\"Displays statistics on the most popular stations and trip.\"\"\"\n",
    "\n",
    "        print('\\nCalculating The Most Popular Stations and Trip...\\n')\n",
    "        start_time = time.time()\n",
    "\n",
    "        # TO DO: display most commonly used start station\n",
    "        print('The most commonly used start station is {}'.format(df['Start Station'].mode()[0]))\n",
    "\n",
    "        # TO DO: display most commonly used end station\n",
    "        print('The most commonly used end station is {}'.format(df['End Station'].mode()[0]))\n",
    "\n",
    "        # TO DO: display most frequent combination of start station and end station trip\n",
    "        print('The most frequent combination of start and end station trip is {}'.format(df[['Start Station','End Station']].mode()))\n",
    "\n",
    "        print(\"\\nThis took %s seconds.\" % (time.time() - start_time))\n",
    "        print('-'*40)\n",
    "\n",
    "    def trip_duration_stats(df):\n",
    "        \"\"\"Displays statistics on the total and average trip duration.\"\"\"\n",
    "\n",
    "        print('\\nCalculating Trip Duration...\\n')\n",
    "        start_time = time.time()\n",
    "\n",
    "        # TO DO: display total travel time\n",
    "        print('The total travel time is {}'.format(df['Trip Duration'].sum()))\n",
    "\n",
    "        # TO DO: display mean travel time\n",
    "        print('The mean travel time is {}'.format(df['Trip Duration'].mean()))\n",
    "\n",
    "        print(\"\\nThis took %s seconds.\" % (time.time() - start_time))\n",
    "        print('-'*40)\n",
    "\n",
    "    def user_stats(df):\n",
    "        \"\"\"Displays statistics on bikeshare users.\"\"\"\n",
    "\n",
    "        print('\\nCalculating User Stats...\\n')\n",
    "        start_time = time.time()\n",
    "\n",
    "        # TO DO: Display counts of user types\n",
    "\n",
    "        print('The count of the user types is {}'.format(df['User Type'].value_counts()))\n",
    "        # TO DO: Display counts of gender\n",
    "        if 'Gender' in df.columns:\n",
    "            print('The count by gender is {}'.format(df['Gender'].value_counts()))\n",
    "        # TO DO: Display earliest, most recent, and most common year of birth\n",
    "        if 'Birth Year' in df.columns:\n",
    "            print('''The earliest year of birth is {} \\nThe most Recent Year of birth is {} \\nThe most common year of birth is {}\n",
    "            '''.format(df['Birth Year'].min(),df['Birth Year'].max(), df['Birth Year'].mode()[0]))\n",
    "\n",
    "        print(\"\\nThis took %s seconds.\" % (time.time() - start_time))\n",
    "        print('-'*40)\n",
    "\n",
    "        while True:\n",
    "            prompt=input('Would you like to see five rows of the raw data? ').lower()\n",
    "            if prompt=='yes':\n",
    "                print(df.iloc[0:4,:])\n",
    "                break\n",
    "            elif prompt=='no':\n",
    "                break\n",
    "            else:\n",
    "                print('Please Enter yes or no')\n",
    "        if prompt=='yes':\n",
    "            m=5\n",
    "            n=10\n",
    "            while True:\n",
    "                prompt=input('Would you like to see another five rows of the raw data? ').lower()\n",
    "                if prompt=='yes':\n",
    "                    print(df.iloc[m:n,:])\n",
    "                    m+=5\n",
    "                    n+=5\n",
    "                elif prompt=='no':\n",
    "                    break\n",
    "                else:\n",
    "                    print('Please select yes or no')\n",
    "\n",
    "    def main():\n",
    "        while True:\n",
    "            city, month, day = get_filters()\n",
    "            df = load_data(city, month, day)\n",
    "            time_stats(df)\n",
    "            station_stats(df)\n",
    "            trip_duration_stats(df)\n",
    "            user_stats(df)\n",
    "            restart = input('\\nWould you like to restart? Enter yes or no.\\n')\n",
    "            if restart.lower() != 'yes':\n",
    "                break\n",
    "\n",
    "    if __name__ == \"__main__\":\n",
    "        main()\n",
    "except:\n",
    "    print('Error occured, Rerun the program if you wish to continue!!')\n"
   ]
  }
 ],
 "metadata": {
  "kernelspec": {
   "display_name": "Python 3",
   "language": "python",
   "name": "python3"
  },
  "language_info": {
   "codemirror_mode": {
    "name": "ipython",
    "version": 3
   },
   "file_extension": ".py",
   "mimetype": "text/x-python",
   "name": "python",
   "nbconvert_exporter": "python",
   "pygments_lexer": "ipython3",
   "version": "3.8.8"
  }
 },
 "nbformat": 4,
 "nbformat_minor": 5
}
